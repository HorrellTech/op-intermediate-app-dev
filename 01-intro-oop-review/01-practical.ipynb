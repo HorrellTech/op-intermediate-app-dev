{
 "cells": [
  {
   "cell_type": "markdown",
   "metadata": {},
   "source": [
    "##### College of Engineering, Construction and Living Sciences<br>Bachelor of Information Technology<br>IN608: Intermediate Application Development Concepts<br>Level 6, Credits 15<br><br>Due Date: 08/03/2021 at 5pm\n",
    "\n",
    "# Python 1: Abstract Data Types & OOP Recap\n",
    "\n",
    "In this practical, you will complete a series of tasks covering today's lecture. This practical is worth 0.5% of the final mark for the IN608: Intermediate Application Development Concepts course.\n",
    "\n",
    "Before you start, in your practicals repository, create a new branch called **01-practical**.\n",
    "\n",
    "## <ins>Programming Activity</ins>\n",
    "\n",
    "### Hello, world\n",
    "**Question 1:** Write code that prints \"Hello, world.\" That's it.\n"
   ]
  },
  {
   "cell_type": "code",
   "execution_count": 1,
   "metadata": {},
   "outputs": [
    {
     "name": "stdout",
     "output_type": "stream",
     "text": [
      "Hello, world.\n"
     ]
    }
   ],
   "source": [
    "# Write your solution here\n",
    "print(\"Hello, world.\")\n",
    "# Expected output:\n",
    "# Hello, world."
   ]
  },
  {
   "cell_type": "markdown",
   "metadata": {},
   "source": [
    "Save this notebook, commit and push your changes. Remember that you should be working in a branch. Now go to your GitHub profile, find your repo, and create a pull request. Designate **tclark** as a reviewer. Your pull request will be rejected with feedback. The feedback will be to complete the questions below and resubmit your pull request.\n",
    "\n",
    "## <ins>Homework</ins>\n",
    "\n",
    "### Encapsulation\n",
    "**Question 2:** Create a `Dog` class with the private attributes `name`, `age` & `breed`. For each attribute, create a getter & setter using the `@property` decorator. Create a `__str__` special method which returns the following: My `breed`'s name is `name`. S/he is `age` year(s) old.    \n",
    "\n",
    "Create a `main` function with two `Dog` objects. Using setters, change the first `Dog` object's `name` to Fido & `age` to 10. Again, using a setter, change the second `Dog` object's `breed` to poodle. For each `Dog` object, print it's string representation."
   ]
  },
  {
   "cell_type": "code",
   "execution_count": 2,
   "metadata": {},
   "outputs": [
    {
     "name": "stdout",
     "output_type": "stream",
     "text": [
      "My breeds name is Fido. S/he is 10 year(s) old.\n",
      "My Poodles name is name. S/he is 99999 year(s) old.\n"
     ]
    }
   ],
   "source": [
    "# Write your solution here\n",
    "class Dog:\n",
    "    def __init__(self):\n",
    "        self._name = \"name\"\n",
    "        self._age = 99999\n",
    "        self._breed = \"breed\"\n",
    "        \n",
    "    @property\n",
    "    def name(self):\n",
    "        return(self._name)\n",
    "        \n",
    "    @name.setter\n",
    "    def name(self, n):\n",
    "        self._name = n\n",
    "        \n",
    "    @property\n",
    "    def age(self):\n",
    "        return(self._age)\n",
    "        \n",
    "    @age.setter\n",
    "    def age(self, a):\n",
    "        self._age = a\n",
    "        \n",
    "    @property\n",
    "    def breed(self):\n",
    "        return(self._breed)\n",
    "        \n",
    "    @breed.setter\n",
    "    def breed(self, b):\n",
    "        self._breed = b\n",
    "    \n",
    "    def __str__(self):\n",
    "        return f'My {self._breed}s name is {self._name}. S/he is {self._age} year(s) old.'\n",
    "        \n",
    "if __name__ == \"__main__\":\n",
    "    dog1 = Dog()\n",
    "    dog2 = Dog()\n",
    "    dog1.name = \"Fido\"\n",
    "    dog1.age = 10\n",
    "    dog2.breed = \"Poodle\"\n",
    "    print(dog1)\n",
    "    print(dog2)\n",
    "    "
   ]
  },
  {
   "cell_type": "markdown",
   "metadata": {},
   "source": [
    "### Single Inheritance\n",
    "**Question 3:** Create a `SoftwareDeveloper` & `ProductOwner` class which inherits from `Employee` class. `SoftwareDeveloper` class has one additional class attribute called `prog_lang`. `ProductOwner` also has one additional class attribute called `employees` & three class methods which add, remove & show all employees managed by the Product Owner. Note: `employees` is a list of `SoftwareDeveloper` objects.\n",
    "\n",
    "Use the three `SoftwareDeveloper` objects & one `ProductOwner` object provided in the `main` function to display the expected output."
   ]
  },
  {
   "cell_type": "code",
   "execution_count": 31,
   "metadata": {},
   "outputs": [
    {
     "name": "stdout",
     "output_type": "stream",
     "text": [
      "Malik Martin\n",
      "Livia Martin\n"
     ]
    }
   ],
   "source": [
    "class Employee:\n",
    "    def __init__(self, first_name, last_name, salary):\n",
    "        self.first_name = first_name\n",
    "        self.last_name = last_name\n",
    "        self.salary = salary\n",
    "        \n",
    "    def __str__(self):\n",
    "        return f'{self.first_name} {self.last_name}'\n",
    "    \n",
    "# Write your solution here \n",
    "class SoftwareDeveloper(Employee):\n",
    "    def __init__(self, first_name, last_name, salary, prog_lang):\n",
    "        super().__init__(first_name, last_name, salary)\n",
    "        self.prog_lang = prog_lang\n",
    "        \n",
    "    def __str__(self):\n",
    "        return f'{self.first_name} {self.last_name}'\n",
    "    \n",
    "class ProductOwner(Employee):\n",
    "    employeeList = []\n",
    "    def __init__(self, first_name, last_name, salary, employees):\n",
    "        super().__init__(first_name, last_name, salary)\n",
    "        for x in range(len(employees)): \n",
    "            self.add(employees[x])\n",
    "        \n",
    "        \n",
    "    def __str__(self):\n",
    "        return f'{self.first_name} {self.last_name}'\n",
    "    \n",
    "    def show_employees(self):\n",
    "        for x in range(len(self.employeeList)): \n",
    "            print(self.employeeList[x]) \n",
    "        \n",
    "    def add(self, employee):\n",
    "        self.employeeList.append(employee)\n",
    "    \n",
    "    def remove(self, employee):\n",
    "        self.employeeList.remove(employee)\n",
    "\n",
    "def main():\n",
    "    sft_dev_one = SoftwareDeveloper('Alfredo', 'Boyle', 50000, 'C#')\n",
    "    sft_dev_two = SoftwareDeveloper('Malik', 'Martin', 55000, 'JavaScript')\n",
    "    sft_dev_three = SoftwareDeveloper('Livia', 'Martin', 75000, 'Kotlin')\n",
    "    prdt_owr = ProductOwner('Lillian', 'Cunningham', 100000, [sft_dev_one, sft_dev_two])\n",
    "    # Add sft_dev_there to the list of employees\n",
    "    prdt_owr.add(sft_dev_three)\n",
    "    # Remove sft_dev_one from the list of employees\n",
    "    prdt_owr.remove(sft_dev_one)\n",
    "    # Hint: Look up Python list methods\n",
    "    prdt_owr.show_employees()\n",
    "\n",
    "if __name__ == '__main__':\n",
    "    main()\n",
    "    \n",
    "# Expected output:\n",
    "\n",
    "# Malik Martin\n",
    "# Livia Martin"
   ]
  },
  {
   "cell_type": "markdown",
   "metadata": {},
   "source": [
    "### Polymorphism\n",
    "**Question 4:** `Language` class has no class attributes, but a class method called `good_morning`. `Maori`, `Japanese` & `German` class inherit from `Language` class. When you execute the following code, what is happening & why is it happening? Refactor the code to display the expected output."
   ]
  },
  {
   "cell_type": "code",
   "execution_count": 33,
   "metadata": {},
   "outputs": [
    {
     "name": "stdout",
     "output_type": "stream",
     "text": [
      "Morena\n",
      "おはようございます\n",
      "Guten Morgen\n"
     ]
    }
   ],
   "source": [
    "# Write your solution here\n",
    "\n",
    "class Language:\n",
    "    def good_morning(self):\n",
    "        raise NotImplementedError\n",
    "\n",
    "class Maori(Language):\n",
    "    def good_morning(self):\n",
    "        print('Morena')\n",
    "\n",
    "class Japanese(Language):\n",
    "    def good_morning(self):\n",
    "        print('おはようございます')\n",
    "\n",
    "class German(Language):\n",
    "    def good_morning(self):\n",
    "        print('Guten Morgen')\n",
    "\n",
    "def main():\n",
    "    maori = Maori()\n",
    "    japanese = Japanese()\n",
    "    german = German()\n",
    "    for lang in (maori, japanese, german):\n",
    "        lang.good_morning()\n",
    "\n",
    "if __name__ == '__main__':\n",
    "    main()\n",
    "\n",
    "# Expected output:\n",
    "\n",
    "# Morena\n",
    "# おはようございます\n",
    "# Guten Morgen"
   ]
  },
  {
   "cell_type": "markdown",
   "metadata": {},
   "source": [
    "# Submission\n",
    "Create a new pull request and assign **tclark** to review your practical submission.\n",
    "\n",
    "**Note:** Please don't merge your own pull request."
   ]
  },
  {
   "cell_type": "code",
   "execution_count": null,
   "metadata": {},
   "outputs": [],
   "source": []
  }
 ],
 "metadata": {
  "kernelspec": {
   "display_name": "Python 3",
   "language": "python",
   "name": "python3"
  },
  "language_info": {
   "codemirror_mode": {
    "name": "ipython",
    "version": 3
   },
   "file_extension": ".py",
   "mimetype": "text/x-python",
   "name": "python",
   "nbconvert_exporter": "python",
   "pygments_lexer": "ipython3",
   "version": "3.8.5"
  }
 },
 "nbformat": 4,
 "nbformat_minor": 4
}
